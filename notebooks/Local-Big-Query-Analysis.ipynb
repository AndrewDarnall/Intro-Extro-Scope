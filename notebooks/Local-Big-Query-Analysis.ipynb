{
 "cells": [
  {
   "cell_type": "markdown",
   "id": "435ed041-d5b2-43ee-8842-139ce1a3948d",
   "metadata": {},
   "source": [
    "# Exploring the Extrovert-Introvert Behavior Dataset via JupyterLab and Google Cloud Big Query\n",
    "---"
   ]
  },
  {
   "cell_type": "code",
   "execution_count": 1,
   "id": "2c88c13a-ac01-4ff7-a087-408fd19360fa",
   "metadata": {},
   "outputs": [],
   "source": [
    "# Initialize the Big Query Client and Auth\n",
    "from google.cloud import bigquery, storage\n",
    "import os\n",
    "\n",
    "# Set up authentication (ensure you have a service account key)\n",
    "os.environ[\"GOOGLE_APPLICATION_CREDENTIALS\"] = \"../env/ccbd-exam-2025-darnall-939537d72960.json\"\n",
    "\n",
    "# Initialize BigQuery and Cloud Storage clients\n",
    "bq_client = bigquery.Client()\n",
    "gcs_client = storage.Client()"
   ]
  },
  {
   "cell_type": "code",
   "execution_count": 15,
   "id": "66e4ef1e-f7e4-4837-b3a4-41d61b252087",
   "metadata": {},
   "outputs": [
    {
     "name": "stderr",
     "output_type": "stream",
     "text": [
      "C:\\Users\\adarnall\\miniconda3\\Lib\\site-packages\\google\\cloud\\bigquery\\table.py:1957: UserWarning: BigQuery Storage module not found, fetch data with the REST endpoint instead.\n",
      "  warnings.warn(\n"
     ]
    },
    {
     "data": {
      "text/html": [
       "<div>\n",
       "<style scoped>\n",
       "    .dataframe tbody tr th:only-of-type {\n",
       "        vertical-align: middle;\n",
       "    }\n",
       "\n",
       "    .dataframe tbody tr th {\n",
       "        vertical-align: top;\n",
       "    }\n",
       "\n",
       "    .dataframe thead th {\n",
       "        text-align: right;\n",
       "    }\n",
       "</style>\n",
       "<table border=\"1\" class=\"dataframe\">\n",
       "  <thead>\n",
       "    <tr style=\"text-align: right;\">\n",
       "      <th></th>\n",
       "      <th>Personality</th>\n",
       "      <th>Post_Frequency</th>\n",
       "    </tr>\n",
       "  </thead>\n",
       "  <tbody>\n",
       "    <tr>\n",
       "      <th>0</th>\n",
       "      <td>Introvert</td>\n",
       "      <td>1305</td>\n",
       "    </tr>\n",
       "    <tr>\n",
       "      <th>1</th>\n",
       "      <td>Extrovert</td>\n",
       "      <td>485</td>\n",
       "    </tr>\n",
       "  </tbody>\n",
       "</table>\n",
       "</div>"
      ],
      "text/plain": [
       "  Personality  Post_Frequency\n",
       "0   Introvert            1305\n",
       "1   Extrovert             485"
      ]
     },
     "execution_count": 15,
     "metadata": {},
     "output_type": "execute_result"
    }
   ],
   "source": [
    "# Connect to the Big Query and Bucket assets\n",
    "dataset_id = \"ccbd-exam-2025-darnall.intro_extro_behavior\"\n",
    "table_id = \"intro_extro_data\"\n",
    "# gcs_uri = \"gs://ccbd-exam-2025-darnall-gc-bucket/datasets/introvert-vs-extrovert-behavior/personality_dataset.csv\"\n",
    "\n",
    "# Assess wether posting less frequently means you are more introverted (as strange as it sounds)\n",
    "query = f\"\"\"\n",
    "SELECT Personality, COUNT(*) as Post_Frequency \n",
    "FROM `ccbd-exam-2025-darnall.intro_extro_behavior.intro_extro_data` \n",
    "where Post_frequency < 5 \n",
    "group by Personality;\n",
    "\"\"\"\n",
    "\n",
    "query_1 = bq_client.query(query).to_dataframe()\n",
    "query_1.head()"
   ]
  },
  {
   "cell_type": "code",
   "execution_count": 16,
   "id": "7fa8116a-9544-428b-a6b9-7995430e5d7e",
   "metadata": {},
   "outputs": [
    {
     "name": "stderr",
     "output_type": "stream",
     "text": [
      "C:\\Users\\adarnall\\miniconda3\\Lib\\site-packages\\google\\cloud\\bigquery\\table.py:1957: UserWarning: BigQuery Storage module not found, fetch data with the REST endpoint instead.\n",
      "  warnings.warn(\n"
     ]
    },
    {
     "data": {
      "text/html": [
       "<div>\n",
       "<style scoped>\n",
       "    .dataframe tbody tr th:only-of-type {\n",
       "        vertical-align: middle;\n",
       "    }\n",
       "\n",
       "    .dataframe tbody tr th {\n",
       "        vertical-align: top;\n",
       "    }\n",
       "\n",
       "    .dataframe thead th {\n",
       "        text-align: right;\n",
       "    }\n",
       "</style>\n",
       "<table border=\"1\" class=\"dataframe\">\n",
       "  <thead>\n",
       "    <tr style=\"text-align: right;\">\n",
       "      <th></th>\n",
       "      <th>Personality</th>\n",
       "      <th>Social_Event_Attendance</th>\n",
       "    </tr>\n",
       "  </thead>\n",
       "  <tbody>\n",
       "    <tr>\n",
       "      <th>0</th>\n",
       "      <td>Introvert</td>\n",
       "      <td>1004</td>\n",
       "    </tr>\n",
       "    <tr>\n",
       "      <th>1</th>\n",
       "      <td>Extrovert</td>\n",
       "      <td>104</td>\n",
       "    </tr>\n",
       "  </tbody>\n",
       "</table>\n",
       "</div>"
      ],
      "text/plain": [
       "  Personality  Social_Event_Attendance\n",
       "0   Introvert                     1004\n",
       "1   Extrovert                      104"
      ]
     },
     "execution_count": 16,
     "metadata": {},
     "output_type": "execute_result"
    }
   ],
   "source": [
    "# Assess how many introverts attend less that 2 hours of 'social life'\n",
    "query = f\"\"\"\n",
    "SELECT Personality, COUNT(*) as Social_Event_Attendance \n",
    "FROM `ccbd-exam-2025-darnall.intro_extro_behavior.intro_extro_data` \n",
    "where Social_event_attendance <= 2 \n",
    "group by Personality;\n",
    "\"\"\"\n",
    "\n",
    "query_2 = bq_client.query(query).to_dataframe()\n",
    "query_2.head()"
   ]
  },
  {
   "cell_type": "code",
   "execution_count": 17,
   "id": "205e9bff-3cd9-4845-96a5-47ab844f2702",
   "metadata": {},
   "outputs": [
    {
     "name": "stderr",
     "output_type": "stream",
     "text": [
      "C:\\Users\\adarnall\\miniconda3\\Lib\\site-packages\\google\\cloud\\bigquery\\table.py:1957: UserWarning: BigQuery Storage module not found, fetch data with the REST endpoint instead.\n",
      "  warnings.warn(\n"
     ]
    },
    {
     "data": {
      "text/html": [
       "<div>\n",
       "<style scoped>\n",
       "    .dataframe tbody tr th:only-of-type {\n",
       "        vertical-align: middle;\n",
       "    }\n",
       "\n",
       "    .dataframe tbody tr th {\n",
       "        vertical-align: top;\n",
       "    }\n",
       "\n",
       "    .dataframe thead th {\n",
       "        text-align: right;\n",
       "    }\n",
       "</style>\n",
       "<table border=\"1\" class=\"dataframe\">\n",
       "  <thead>\n",
       "    <tr style=\"text-align: right;\">\n",
       "      <th></th>\n",
       "      <th>Personality</th>\n",
       "      <th>Outdoors_Time</th>\n",
       "    </tr>\n",
       "  </thead>\n",
       "  <tbody>\n",
       "    <tr>\n",
       "      <th>0</th>\n",
       "      <td>Extrovert</td>\n",
       "      <td>183</td>\n",
       "    </tr>\n",
       "    <tr>\n",
       "      <th>1</th>\n",
       "      <td>Introvert</td>\n",
       "      <td>26</td>\n",
       "    </tr>\n",
       "  </tbody>\n",
       "</table>\n",
       "</div>"
      ],
      "text/plain": [
       "  Personality  Outdoors_Time\n",
       "0   Extrovert            183\n",
       "1   Introvert             26"
      ]
     },
     "execution_count": 17,
     "metadata": {},
     "output_type": "execute_result"
    }
   ],
   "source": [
    "# Assess how many individuals from both personality types are in the 'mean' ammount of outdoors time (so if they could be considered similar or not)\n",
    "query = f\"\"\"\n",
    "SELECT Personality, COUNT(*) as Outdoors_Time \n",
    "FROM `ccbd-exam-2025-darnall.intro_extro_behavior.intro_extro_data` \n",
    "where Going_outside = 3 \n",
    "group by Personality;\n",
    "\"\"\"\n",
    "\n",
    "query_3 = bq_client.query(query).to_dataframe()\n",
    "query_3.head()"
   ]
  },
  {
   "cell_type": "code",
   "execution_count": 18,
   "id": "2e1e031c-f9f2-437f-9e14-ad5d0b4cd8d8",
   "metadata": {},
   "outputs": [
    {
     "name": "stderr",
     "output_type": "stream",
     "text": [
      "C:\\Users\\adarnall\\miniconda3\\Lib\\site-packages\\google\\cloud\\bigquery\\table.py:1957: UserWarning: BigQuery Storage module not found, fetch data with the REST endpoint instead.\n",
      "  warnings.warn(\n"
     ]
    },
    {
     "data": {
      "text/html": [
       "<div>\n",
       "<style scoped>\n",
       "    .dataframe tbody tr th:only-of-type {\n",
       "        vertical-align: middle;\n",
       "    }\n",
       "\n",
       "    .dataframe tbody tr th {\n",
       "        vertical-align: top;\n",
       "    }\n",
       "\n",
       "    .dataframe thead th {\n",
       "        text-align: right;\n",
       "    }\n",
       "</style>\n",
       "<table border=\"1\" class=\"dataframe\">\n",
       "  <thead>\n",
       "    <tr style=\"text-align: right;\">\n",
       "      <th></th>\n",
       "      <th>Personality</th>\n",
       "      <th>Outdoors_Time</th>\n",
       "    </tr>\n",
       "  </thead>\n",
       "  <tbody>\n",
       "    <tr>\n",
       "      <th>0</th>\n",
       "      <td>Introvert</td>\n",
       "      <td>415</td>\n",
       "    </tr>\n",
       "    <tr>\n",
       "      <th>1</th>\n",
       "      <td>Extrovert</td>\n",
       "      <td>41</td>\n",
       "    </tr>\n",
       "  </tbody>\n",
       "</table>\n",
       "</div>"
      ],
      "text/plain": [
       "  Personality  Outdoors_Time\n",
       "0   Introvert            415\n",
       "1   Extrovert             41"
      ]
     },
     "execution_count": 18,
     "metadata": {},
     "output_type": "execute_result"
    }
   ],
   "source": [
    "# Assess how many individuals from both personality types are in the 'mean' ammount of outdoors time (so if they could be considered similar or not)\n",
    "query = f\"\"\"\n",
    "SELECT Personality, COUNT(*) as Outdoors_Time \n",
    "FROM `ccbd-exam-2025-darnall.intro_extro_behavior.intro_extro_data` \n",
    "where Going_outside = 2\n",
    "group by Personality;\n",
    "\"\"\"\n",
    "\n",
    "query_4 = bq_client.query(query).to_dataframe()\n",
    "query_4.head()"
   ]
  },
  {
   "cell_type": "code",
   "execution_count": 19,
   "id": "9579961d-8b9d-4c86-93a2-0ca56fd2cb10",
   "metadata": {},
   "outputs": [
    {
     "name": "stderr",
     "output_type": "stream",
     "text": [
      "C:\\Users\\adarnall\\miniconda3\\Lib\\site-packages\\google\\cloud\\bigquery\\table.py:1957: UserWarning: BigQuery Storage module not found, fetch data with the REST endpoint instead.\n",
      "  warnings.warn(\n"
     ]
    },
    {
     "data": {
      "text/html": [
       "<div>\n",
       "<style scoped>\n",
       "    .dataframe tbody tr th:only-of-type {\n",
       "        vertical-align: middle;\n",
       "    }\n",
       "\n",
       "    .dataframe tbody tr th {\n",
       "        vertical-align: top;\n",
       "    }\n",
       "\n",
       "    .dataframe thead th {\n",
       "        text-align: right;\n",
       "    }\n",
       "</style>\n",
       "<table border=\"1\" class=\"dataframe\">\n",
       "  <thead>\n",
       "    <tr style=\"text-align: right;\">\n",
       "      <th></th>\n",
       "      <th>Personality</th>\n",
       "      <th>Outdoors_Time</th>\n",
       "    </tr>\n",
       "  </thead>\n",
       "  <tbody>\n",
       "    <tr>\n",
       "      <th>0</th>\n",
       "      <td>Introvert</td>\n",
       "      <td>405</td>\n",
       "    </tr>\n",
       "    <tr>\n",
       "      <th>1</th>\n",
       "      <td>Extrovert</td>\n",
       "      <td>24</td>\n",
       "    </tr>\n",
       "  </tbody>\n",
       "</table>\n",
       "</div>"
      ],
      "text/plain": [
       "  Personality  Outdoors_Time\n",
       "0   Introvert            405\n",
       "1   Extrovert             24"
      ]
     },
     "execution_count": 19,
     "metadata": {},
     "output_type": "execute_result"
    }
   ],
   "source": [
    "# Assess how many individuals from both personality types are in the 'mean' ammount of outdoors time (so if they could be considered similar or not)\n",
    "query = f\"\"\"\n",
    "SELECT Personality, COUNT(*) as Outdoors_Time \n",
    "FROM `ccbd-exam-2025-darnall.intro_extro_behavior.intro_extro_data` \n",
    "where Going_outside = 1\n",
    "group by Personality;\n",
    "\"\"\"\n",
    "\n",
    "query_5 = bq_client.query(query).to_dataframe()\n",
    "query_5.head()"
   ]
  },
  {
   "cell_type": "markdown",
   "id": "5081f0ef-1cfa-460f-9e7f-f874a510f183",
   "metadata": {},
   "source": [
    "---"
   ]
  },
  {
   "cell_type": "code",
   "execution_count": 20,
   "id": "5a38713a-f115-43cb-8d62-f53938eb4fe3",
   "metadata": {},
   "outputs": [
    {
     "name": "stderr",
     "output_type": "stream",
     "text": [
      "C:\\Users\\adarnall\\miniconda3\\Lib\\site-packages\\google\\cloud\\bigquery\\table.py:1957: UserWarning: BigQuery Storage module not found, fetch data with the REST endpoint instead.\n",
      "  warnings.warn(\n"
     ]
    },
    {
     "data": {
      "text/html": [
       "<div>\n",
       "<style scoped>\n",
       "    .dataframe tbody tr th:only-of-type {\n",
       "        vertical-align: middle;\n",
       "    }\n",
       "\n",
       "    .dataframe tbody tr th {\n",
       "        vertical-align: top;\n",
       "    }\n",
       "\n",
       "    .dataframe thead th {\n",
       "        text-align: right;\n",
       "    }\n",
       "</style>\n",
       "<table border=\"1\" class=\"dataframe\">\n",
       "  <thead>\n",
       "    <tr style=\"text-align: right;\">\n",
       "      <th></th>\n",
       "      <th>Personality</th>\n",
       "      <th>Total_Friends</th>\n",
       "    </tr>\n",
       "  </thead>\n",
       "  <tbody>\n",
       "    <tr>\n",
       "      <th>0</th>\n",
       "      <td>Introvert</td>\n",
       "      <td>1372</td>\n",
       "    </tr>\n",
       "    <tr>\n",
       "      <th>1</th>\n",
       "      <td>Extrovert</td>\n",
       "      <td>1451</td>\n",
       "    </tr>\n",
       "  </tbody>\n",
       "</table>\n",
       "</div>"
      ],
      "text/plain": [
       "  Personality  Total_Friends\n",
       "0   Introvert           1372\n",
       "1   Extrovert           1451"
      ]
     },
     "execution_count": 20,
     "metadata": {},
     "output_type": "execute_result"
    }
   ],
   "source": [
    "# Assess friend group sizes per personality types\n",
    "query = f\"\"\"\n",
    "SELECT Personality, COUNT(Friends_circle_size) as Total_Friends\n",
    "FROM `ccbd-exam-2025-darnall.intro_extro_behavior.intro_extro_data`\n",
    "group by Personality\n",
    "\"\"\"\n",
    "\n",
    "query_6 = bq_client.query(query).to_dataframe()\n",
    "query_6.head()"
   ]
  },
  {
   "cell_type": "markdown",
   "id": "1fbab2be-c935-40ff-9c3b-145712227e25",
   "metadata": {},
   "source": [
    "Suprisingly enough, both introverts and extroverts (at least as the sapmple goes) have the same ammounts of friends (which means they are NOT anti-social)"
   ]
  },
  {
   "cell_type": "code",
   "execution_count": 21,
   "id": "d9d13a29-cde2-4694-a1ba-eb04831b145c",
   "metadata": {},
   "outputs": [
    {
     "name": "stderr",
     "output_type": "stream",
     "text": [
      "C:\\Users\\adarnall\\miniconda3\\Lib\\site-packages\\google\\cloud\\bigquery\\table.py:1957: UserWarning: BigQuery Storage module not found, fetch data with the REST endpoint instead.\n",
      "  warnings.warn(\n"
     ]
    },
    {
     "data": {
      "text/html": [
       "<div>\n",
       "<style scoped>\n",
       "    .dataframe tbody tr th:only-of-type {\n",
       "        vertical-align: middle;\n",
       "    }\n",
       "\n",
       "    .dataframe tbody tr th {\n",
       "        vertical-align: top;\n",
       "    }\n",
       "\n",
       "    .dataframe thead th {\n",
       "        text-align: right;\n",
       "    }\n",
       "</style>\n",
       "<table border=\"1\" class=\"dataframe\">\n",
       "  <thead>\n",
       "    <tr style=\"text-align: right;\">\n",
       "      <th></th>\n",
       "      <th>Personality</th>\n",
       "      <th>Avg_Friend_Group_Size</th>\n",
       "    </tr>\n",
       "  </thead>\n",
       "  <tbody>\n",
       "    <tr>\n",
       "      <th>0</th>\n",
       "      <td>Introvert</td>\n",
       "      <td>3.196793</td>\n",
       "    </tr>\n",
       "    <tr>\n",
       "      <th>1</th>\n",
       "      <td>Extrovert</td>\n",
       "      <td>9.173673</td>\n",
       "    </tr>\n",
       "  </tbody>\n",
       "</table>\n",
       "</div>"
      ],
      "text/plain": [
       "  Personality  Avg_Friend_Group_Size\n",
       "0   Introvert               3.196793\n",
       "1   Extrovert               9.173673"
      ]
     },
     "execution_count": 21,
     "metadata": {},
     "output_type": "execute_result"
    }
   ],
   "source": [
    "# Assess the average friend group per personality\n",
    "query = f\"\"\"\n",
    "SELECT Personality, AVG(Friends_circle_size) as Avg_Friend_Group_Size\n",
    "FROM `ccbd-exam-2025-darnall.intro_extro_behavior.intro_extro_data`\n",
    "group by Personality\n",
    "\"\"\"\n",
    "\n",
    "query_7 = bq_client.query(query).to_dataframe()\n",
    "query_7.head()"
   ]
  },
  {
   "cell_type": "markdown",
   "id": "b22d1358-0302-481f-8397-4b2b2add9615",
   "metadata": {},
   "source": [
    "So whilst in ***absolute***, both personality types do have roughly the same ammounts of friends, on average, introverts tend to be more 'picky' and have smaller friend groups, allthgough the stability of said friendgroup cannot be determinted from this dataset"
   ]
  },
  {
   "cell_type": "markdown",
   "id": "f089f9b7-3d6d-4cdb-9f80-a5631ed152d6",
   "metadata": {},
   "source": [
    "---"
   ]
  }
 ],
 "metadata": {
  "kernelspec": {
   "display_name": "Python 3 (ipykernel)",
   "language": "python",
   "name": "python3"
  },
  "language_info": {
   "codemirror_mode": {
    "name": "ipython",
    "version": 3
   },
   "file_extension": ".py",
   "mimetype": "text/x-python",
   "name": "python",
   "nbconvert_exporter": "python",
   "pygments_lexer": "ipython3",
   "version": "3.13.2"
  }
 },
 "nbformat": 4,
 "nbformat_minor": 5
}
