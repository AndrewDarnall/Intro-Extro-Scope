{
 "cells": [
  {
   "cell_type": "markdown",
   "id": "435ed041-d5b2-43ee-8842-139ce1a3948d",
   "metadata": {},
   "source": [
    "# Exploring the Extrovert-Introvert Behavior Dataset via JupyterLab and Google Cloud Big Query\n",
    "---"
   ]
  },
  {
   "cell_type": "code",
   "execution_count": 1,
   "id": "2c88c13a-ac01-4ff7-a087-408fd19360fa",
   "metadata": {},
   "outputs": [],
   "source": [
    "# Initialize the Big Query Client and Auth\n",
    "from google.cloud import bigquery, storage\n",
    "import os\n",
    "\n",
    "# Set up authentication (ensure you have a service account key)\n",
    "os.environ[\"GOOGLE_APPLICATION_CREDENTIALS\"] = \"../env/ccbd-exam-2025-darnall-939537d72960.json\"\n",
    "\n",
    "# Initialize BigQuery and Cloud Storage clients\n",
    "bq_client = bigquery.Client()\n",
    "gcs_client = storage.Client()"
   ]
  },
  {
   "cell_type": "code",
   "execution_count": 2,
   "id": "66e4ef1e-f7e4-4837-b3a4-41d61b252087",
   "metadata": {},
   "outputs": [
    {
     "name": "stderr",
     "output_type": "stream",
     "text": [
      "C:\\Users\\adarnall\\miniconda3\\Lib\\site-packages\\google\\cloud\\bigquery\\table.py:1957: UserWarning: BigQuery Storage module not found, fetch data with the REST endpoint instead.\n",
      "  warnings.warn(\n"
     ]
    },
    {
     "data": {
      "text/html": [
       "<div>\n",
       "<style scoped>\n",
       "    .dataframe tbody tr th:only-of-type {\n",
       "        vertical-align: middle;\n",
       "    }\n",
       "\n",
       "    .dataframe tbody tr th {\n",
       "        vertical-align: top;\n",
       "    }\n",
       "\n",
       "    .dataframe thead th {\n",
       "        text-align: right;\n",
       "    }\n",
       "</style>\n",
       "<table border=\"1\" class=\"dataframe\">\n",
       "  <thead>\n",
       "    <tr style=\"text-align: right;\">\n",
       "      <th></th>\n",
       "      <th>Personality</th>\n",
       "      <th>Samples</th>\n",
       "    </tr>\n",
       "  </thead>\n",
       "  <tbody>\n",
       "    <tr>\n",
       "      <th>0</th>\n",
       "      <td>Introvert</td>\n",
       "      <td>1409</td>\n",
       "    </tr>\n",
       "    <tr>\n",
       "      <th>1</th>\n",
       "      <td>Extrovert</td>\n",
       "      <td>1491</td>\n",
       "    </tr>\n",
       "  </tbody>\n",
       "</table>\n",
       "</div>"
      ],
      "text/plain": [
       "  Personality  Samples\n",
       "0   Introvert     1409\n",
       "1   Extrovert     1491"
      ]
     },
     "execution_count": 2,
     "metadata": {},
     "output_type": "execute_result"
    }
   ],
   "source": [
    "# Connect to the Big Query and Bucket assets\n",
    "dataset_id = \"ccbd-exam-2025-darnall.intro_extro_behavior\"\n",
    "table_id = \"intro_extro_data\"\n",
    "# gcs_uri = \"gs://ccbd-exam-2025-darnall-gc-bucket/datasets/introvert-vs-extrovert-behavior/personality_dataset.csv\"\n",
    "\n",
    "# Assess dataset balance\n",
    "query = f\"\"\"\n",
    "SELECT Personality AS Personality, COUNT(*) AS Samples\n",
    "FROM `ccbd-exam-2025-darnall.intro_extro_behavior.intro_extro_data`\n",
    "GROUP BY Personality;\n",
    "\"\"\"\n",
    "\n",
    "query_1 = bq_client.query(query).to_dataframe()\n",
    "query_1.head()"
   ]
  },
  {
   "cell_type": "code",
   "execution_count": 3,
   "id": "7fa8116a-9544-428b-a6b9-7995430e5d7e",
   "metadata": {},
   "outputs": [
    {
     "name": "stderr",
     "output_type": "stream",
     "text": [
      "C:\\Users\\adarnall\\miniconda3\\Lib\\site-packages\\google\\cloud\\bigquery\\table.py:1957: UserWarning: BigQuery Storage module not found, fetch data with the REST endpoint instead.\n",
      "  warnings.warn(\n"
     ]
    },
    {
     "data": {
      "text/html": [
       "<div>\n",
       "<style scoped>\n",
       "    .dataframe tbody tr th:only-of-type {\n",
       "        vertical-align: middle;\n",
       "    }\n",
       "\n",
       "    .dataframe tbody tr th {\n",
       "        vertical-align: top;\n",
       "    }\n",
       "\n",
       "    .dataframe thead th {\n",
       "        text-align: right;\n",
       "    }\n",
       "</style>\n",
       "<table border=\"1\" class=\"dataframe\">\n",
       "  <thead>\n",
       "    <tr style=\"text-align: right;\">\n",
       "      <th></th>\n",
       "      <th>Personality</th>\n",
       "      <th>Total_Friend_Count</th>\n",
       "    </tr>\n",
       "  </thead>\n",
       "  <tbody>\n",
       "    <tr>\n",
       "      <th>0</th>\n",
       "      <td>Introvert</td>\n",
       "      <td>1409</td>\n",
       "    </tr>\n",
       "    <tr>\n",
       "      <th>1</th>\n",
       "      <td>Extrovert</td>\n",
       "      <td>1491</td>\n",
       "    </tr>\n",
       "  </tbody>\n",
       "</table>\n",
       "</div>"
      ],
      "text/plain": [
       "  Personality  Total_Friend_Count\n",
       "0   Introvert                1409\n",
       "1   Extrovert                1491"
      ]
     },
     "execution_count": 3,
     "metadata": {},
     "output_type": "execute_result"
    }
   ],
   "source": [
    "# Absolute ammount of friends per personality type\n",
    "query = f\"\"\"\n",
    "SELECT Personality, COUNT(*) AS Total_Friend_Count\n",
    "FROM `ccbd-exam-2025-darnall.intro_extro_behavior.intro_extro_data`\n",
    "GROUP BY Personality;\n",
    "\"\"\"\n",
    "\n",
    "query_2 = bq_client.query(query).to_dataframe()\n",
    "query_2.head()"
   ]
  },
  {
   "cell_type": "code",
   "execution_count": 4,
   "id": "205e9bff-3cd9-4845-96a5-47ab844f2702",
   "metadata": {},
   "outputs": [
    {
     "name": "stderr",
     "output_type": "stream",
     "text": [
      "C:\\Users\\adarnall\\miniconda3\\Lib\\site-packages\\google\\cloud\\bigquery\\table.py:1957: UserWarning: BigQuery Storage module not found, fetch data with the REST endpoint instead.\n",
      "  warnings.warn(\n"
     ]
    },
    {
     "data": {
      "text/html": [
       "<div>\n",
       "<style scoped>\n",
       "    .dataframe tbody tr th:only-of-type {\n",
       "        vertical-align: middle;\n",
       "    }\n",
       "\n",
       "    .dataframe tbody tr th {\n",
       "        vertical-align: top;\n",
       "    }\n",
       "\n",
       "    .dataframe thead th {\n",
       "        text-align: right;\n",
       "    }\n",
       "</style>\n",
       "<table border=\"1\" class=\"dataframe\">\n",
       "  <thead>\n",
       "    <tr style=\"text-align: right;\">\n",
       "      <th></th>\n",
       "      <th>Personality</th>\n",
       "      <th>Average_Friend_Group_Size</th>\n",
       "    </tr>\n",
       "  </thead>\n",
       "  <tbody>\n",
       "    <tr>\n",
       "      <th>0</th>\n",
       "      <td>Introvert</td>\n",
       "      <td>3.196793</td>\n",
       "    </tr>\n",
       "    <tr>\n",
       "      <th>1</th>\n",
       "      <td>Extrovert</td>\n",
       "      <td>9.173673</td>\n",
       "    </tr>\n",
       "  </tbody>\n",
       "</table>\n",
       "</div>"
      ],
      "text/plain": [
       "  Personality  Average_Friend_Group_Size\n",
       "0   Introvert                   3.196793\n",
       "1   Extrovert                   9.173673"
      ]
     },
     "execution_count": 4,
     "metadata": {},
     "output_type": "execute_result"
    }
   ],
   "source": [
    "# Average friend group size per personality type\n",
    "query = f\"\"\"\n",
    "SELECT Personality, AVG(Friends_circle_size) AS Average_Friend_Group_Size\n",
    "FROM `ccbd-exam-2025-darnall.intro_extro_behavior.intro_extro_data`\n",
    "GROUP BY Personality;\n",
    "\"\"\"\n",
    "\n",
    "query_3 = bq_client.query(query).to_dataframe()\n",
    "query_3.head()"
   ]
  },
  {
   "cell_type": "code",
   "execution_count": 5,
   "id": "2e1e031c-f9f2-437f-9e14-ad5d0b4cd8d8",
   "metadata": {},
   "outputs": [
    {
     "name": "stderr",
     "output_type": "stream",
     "text": [
      "C:\\Users\\adarnall\\miniconda3\\Lib\\site-packages\\google\\cloud\\bigquery\\table.py:1957: UserWarning: BigQuery Storage module not found, fetch data with the REST endpoint instead.\n",
      "  warnings.warn(\n"
     ]
    },
    {
     "data": {
      "text/html": [
       "<div>\n",
       "<style scoped>\n",
       "    .dataframe tbody tr th:only-of-type {\n",
       "        vertical-align: middle;\n",
       "    }\n",
       "\n",
       "    .dataframe tbody tr th {\n",
       "        vertical-align: top;\n",
       "    }\n",
       "\n",
       "    .dataframe thead th {\n",
       "        text-align: right;\n",
       "    }\n",
       "</style>\n",
       "<table border=\"1\" class=\"dataframe\">\n",
       "  <thead>\n",
       "    <tr style=\"text-align: right;\">\n",
       "      <th></th>\n",
       "      <th>size_bin</th>\n",
       "      <th>group_count</th>\n",
       "      <th>Average_Group_Size</th>\n",
       "    </tr>\n",
       "  </thead>\n",
       "  <tbody>\n",
       "    <tr>\n",
       "      <th>0</th>\n",
       "      <td>0-5</td>\n",
       "      <td>206</td>\n",
       "      <td>3.402913</td>\n",
       "    </tr>\n",
       "    <tr>\n",
       "      <th>1</th>\n",
       "      <td>6-10</td>\n",
       "      <td>687</td>\n",
       "      <td>8.000000</td>\n",
       "    </tr>\n",
       "    <tr>\n",
       "      <th>2</th>\n",
       "      <td>11-15</td>\n",
       "      <td>558</td>\n",
       "      <td>12.749104</td>\n",
       "    </tr>\n",
       "    <tr>\n",
       "      <th>3</th>\n",
       "      <td>Unknown</td>\n",
       "      <td>40</td>\n",
       "      <td>NaN</td>\n",
       "    </tr>\n",
       "  </tbody>\n",
       "</table>\n",
       "</div>"
      ],
      "text/plain": [
       "  size_bin  group_count  Average_Group_Size\n",
       "0      0-5          206            3.402913\n",
       "1     6-10          687            8.000000\n",
       "2    11-15          558           12.749104\n",
       "3  Unknown           40                 NaN"
      ]
     },
     "execution_count": 5,
     "metadata": {},
     "output_type": "execute_result"
    }
   ],
   "source": [
    "# Visualize in bins the most common friend group ranges - extroverts\n",
    "query = f\"\"\"\n",
    "SELECT \n",
    "    CASE \n",
    "        WHEN Friends_circle_size BETWEEN 0 AND 5 THEN '0-5'\n",
    "        WHEN Friends_circle_size BETWEEN 6 AND 10 THEN '6-10'\n",
    "        WHEN Friends_circle_size BETWEEN 11 AND 15 THEN '11-15'\n",
    "        WHEN Friends_circle_size BETWEEN 16 AND 20 THEN '16-20'\n",
    "        ELSE 'Unknown'\n",
    "    END AS size_bin,\n",
    "    COUNT(*) AS group_count,\n",
    "    AVG(Friends_circle_size) AS Average_Group_Size\n",
    "FROM \n",
    "    `ccbd-exam-2025-darnall.intro_extro_behavior.intro_extro_data`\n",
    "WHERE\n",
    "    Personality = 'Extrovert'\n",
    "GROUP BY \n",
    "    size_bin\n",
    "ORDER BY \n",
    "    CASE \n",
    "        WHEN size_bin = '0-5' THEN 1\n",
    "        WHEN size_bin = '6-10' THEN 2\n",
    "        WHEN size_bin = '11-15' THEN 3\n",
    "        WHEN size_bin = '16-20' THEN 4\n",
    "        ELSE 5\n",
    "    END;\n",
    "\"\"\"\n",
    "\n",
    "query_4 = bq_client.query(query).to_dataframe()\n",
    "query_4.head()"
   ]
  },
  {
   "cell_type": "code",
   "execution_count": 6,
   "id": "9579961d-8b9d-4c86-93a2-0ca56fd2cb10",
   "metadata": {},
   "outputs": [
    {
     "name": "stderr",
     "output_type": "stream",
     "text": [
      "C:\\Users\\adarnall\\miniconda3\\Lib\\site-packages\\google\\cloud\\bigquery\\table.py:1957: UserWarning: BigQuery Storage module not found, fetch data with the REST endpoint instead.\n",
      "  warnings.warn(\n"
     ]
    },
    {
     "data": {
      "text/html": [
       "<div>\n",
       "<style scoped>\n",
       "    .dataframe tbody tr th:only-of-type {\n",
       "        vertical-align: middle;\n",
       "    }\n",
       "\n",
       "    .dataframe tbody tr th {\n",
       "        vertical-align: top;\n",
       "    }\n",
       "\n",
       "    .dataframe thead th {\n",
       "        text-align: right;\n",
       "    }\n",
       "</style>\n",
       "<table border=\"1\" class=\"dataframe\">\n",
       "  <thead>\n",
       "    <tr style=\"text-align: right;\">\n",
       "      <th></th>\n",
       "      <th>size_bin</th>\n",
       "      <th>group_count</th>\n",
       "      <th>Average_Group_Size</th>\n",
       "    </tr>\n",
       "  </thead>\n",
       "  <tbody>\n",
       "    <tr>\n",
       "      <th>0</th>\n",
       "      <td>0-5</td>\n",
       "      <td>1293</td>\n",
       "      <td>2.705336</td>\n",
       "    </tr>\n",
       "    <tr>\n",
       "      <th>1</th>\n",
       "      <td>6-10</td>\n",
       "      <td>29</td>\n",
       "      <td>8.689655</td>\n",
       "    </tr>\n",
       "    <tr>\n",
       "      <th>2</th>\n",
       "      <td>11-15</td>\n",
       "      <td>50</td>\n",
       "      <td>12.720000</td>\n",
       "    </tr>\n",
       "    <tr>\n",
       "      <th>3</th>\n",
       "      <td>Unknown</td>\n",
       "      <td>37</td>\n",
       "      <td>NaN</td>\n",
       "    </tr>\n",
       "  </tbody>\n",
       "</table>\n",
       "</div>"
      ],
      "text/plain": [
       "  size_bin  group_count  Average_Group_Size\n",
       "0      0-5         1293            2.705336\n",
       "1     6-10           29            8.689655\n",
       "2    11-15           50           12.720000\n",
       "3  Unknown           37                 NaN"
      ]
     },
     "execution_count": 6,
     "metadata": {},
     "output_type": "execute_result"
    }
   ],
   "source": [
    "# Visualize in bins the most common friend group ranges - introverts\n",
    "query = f\"\"\"\n",
    "SELECT \n",
    "    CASE \n",
    "        WHEN Friends_circle_size BETWEEN 0 AND 5 THEN '0-5'\n",
    "        WHEN Friends_circle_size BETWEEN 6 AND 10 THEN '6-10'\n",
    "        WHEN Friends_circle_size BETWEEN 11 AND 15 THEN '11-15'\n",
    "        WHEN Friends_circle_size BETWEEN 16 AND 20 THEN '16-20'\n",
    "        ELSE 'Unknown'\n",
    "    END AS size_bin,\n",
    "    COUNT(*) AS group_count,\n",
    "    AVG(Friends_circle_size) AS Average_Group_Size\n",
    "FROM \n",
    "    `ccbd-exam-2025-darnall.intro_extro_behavior.intro_extro_data`\n",
    "WHERE\n",
    "    Personality = 'Introvert'\n",
    "GROUP BY \n",
    "    size_bin\n",
    "ORDER BY \n",
    "    CASE \n",
    "        WHEN size_bin = '0-5' THEN 1\n",
    "        WHEN size_bin = '6-10' THEN 2\n",
    "        WHEN size_bin = '11-15' THEN 3\n",
    "        WHEN size_bin = '16-20' THEN 4\n",
    "        ELSE 5\n",
    "    END;\n",
    "\"\"\"\n",
    "\n",
    "query_5 = bq_client.query(query).to_dataframe()\n",
    "query_5.head()"
   ]
  },
  {
   "cell_type": "markdown",
   "id": "5081f0ef-1cfa-460f-9e7f-f874a510f183",
   "metadata": {},
   "source": [
    "---"
   ]
  },
  {
   "cell_type": "code",
   "execution_count": 7,
   "id": "5a38713a-f115-43cb-8d62-f53938eb4fe3",
   "metadata": {},
   "outputs": [
    {
     "name": "stderr",
     "output_type": "stream",
     "text": [
      "C:\\Users\\adarnall\\miniconda3\\Lib\\site-packages\\google\\cloud\\bigquery\\table.py:1957: UserWarning: BigQuery Storage module not found, fetch data with the REST endpoint instead.\n",
      "  warnings.warn(\n"
     ]
    },
    {
     "data": {
      "text/html": [
       "<div>\n",
       "<style scoped>\n",
       "    .dataframe tbody tr th:only-of-type {\n",
       "        vertical-align: middle;\n",
       "    }\n",
       "\n",
       "    .dataframe tbody tr th {\n",
       "        vertical-align: top;\n",
       "    }\n",
       "\n",
       "    .dataframe thead th {\n",
       "        text-align: right;\n",
       "    }\n",
       "</style>\n",
       "<table border=\"1\" class=\"dataframe\">\n",
       "  <thead>\n",
       "    <tr style=\"text-align: right;\">\n",
       "      <th></th>\n",
       "      <th>Personality</th>\n",
       "      <th>Post_Freq_Friend_Circle_Size_Corr</th>\n",
       "    </tr>\n",
       "  </thead>\n",
       "  <tbody>\n",
       "    <tr>\n",
       "      <th>0</th>\n",
       "      <td>Introvert</td>\n",
       "      <td>0.642369</td>\n",
       "    </tr>\n",
       "    <tr>\n",
       "      <th>1</th>\n",
       "      <td>Extrovert</td>\n",
       "      <td>0.304739</td>\n",
       "    </tr>\n",
       "  </tbody>\n",
       "</table>\n",
       "</div>"
      ],
      "text/plain": [
       "  Personality  Post_Freq_Friend_Circle_Size_Corr\n",
       "0   Introvert                           0.642369\n",
       "1   Extrovert                           0.304739"
      ]
     },
     "execution_count": 7,
     "metadata": {},
     "output_type": "execute_result"
    }
   ],
   "source": [
    "# Check correlation between Post Frequency and Friends Circle Size\n",
    "query = f\"\"\"\n",
    "SELECT Personality, CORR(Post_frequency, Friends_circle_size) AS Post_Freq_Friend_Circle_Size_Corr\n",
    "FROM `ccbd-exam-2025-darnall.intro_extro_behavior.intro_extro_data`\n",
    "GROUP BY Personality;\n",
    "\"\"\"\n",
    "\n",
    "query_6 = bq_client.query(query).to_dataframe()\n",
    "query_6.head()"
   ]
  },
  {
   "cell_type": "code",
   "execution_count": 10,
   "id": "d9d13a29-cde2-4694-a1ba-eb04831b145c",
   "metadata": {},
   "outputs": [
    {
     "name": "stderr",
     "output_type": "stream",
     "text": [
      "C:\\Users\\adarnall\\miniconda3\\Lib\\site-packages\\google\\cloud\\bigquery\\table.py:1957: UserWarning: BigQuery Storage module not found, fetch data with the REST endpoint instead.\n",
      "  warnings.warn(\n"
     ]
    },
    {
     "data": {
      "text/html": [
       "<div>\n",
       "<style scoped>\n",
       "    .dataframe tbody tr th:only-of-type {\n",
       "        vertical-align: middle;\n",
       "    }\n",
       "\n",
       "    .dataframe tbody tr th {\n",
       "        vertical-align: top;\n",
       "    }\n",
       "\n",
       "    .dataframe thead th {\n",
       "        text-align: right;\n",
       "    }\n",
       "</style>\n",
       "<table border=\"1\" class=\"dataframe\">\n",
       "  <thead>\n",
       "    <tr style=\"text-align: right;\">\n",
       "      <th></th>\n",
       "      <th>Personality</th>\n",
       "      <th>Post_Freq_Social_Attendance_Corr</th>\n",
       "    </tr>\n",
       "  </thead>\n",
       "  <tbody>\n",
       "    <tr>\n",
       "      <th>0</th>\n",
       "      <td>Introvert</td>\n",
       "      <td>0.60901</td>\n",
       "    </tr>\n",
       "    <tr>\n",
       "      <th>1</th>\n",
       "      <td>Extrovert</td>\n",
       "      <td>0.38624</td>\n",
       "    </tr>\n",
       "  </tbody>\n",
       "</table>\n",
       "</div>"
      ],
      "text/plain": [
       "  Personality  Post_Freq_Social_Attendance_Corr\n",
       "0   Introvert                           0.60901\n",
       "1   Extrovert                           0.38624"
      ]
     },
     "execution_count": 10,
     "metadata": {},
     "output_type": "execute_result"
    }
   ],
   "source": [
    "# Check correlation between Post Frequency and Time Spent Alone\n",
    "query = f\"\"\"\n",
    "SELECT Personality, CORR(Post_frequency, Social_event_attendance) AS Post_Freq_Social_Attendance_Corr\n",
    "FROM `ccbd-exam-2025-darnall.intro_extro_behavior.intro_extro_data`\n",
    "GROUP BY Personality;\n",
    "\"\"\"\n",
    "\n",
    "query_7 = bq_client.query(query).to_dataframe()\n",
    "query_7.head()"
   ]
  },
  {
   "cell_type": "code",
   "execution_count": 11,
   "id": "83fd38c3-8c32-495e-833f-2f436d668ca9",
   "metadata": {},
   "outputs": [
    {
     "name": "stderr",
     "output_type": "stream",
     "text": [
      "C:\\Users\\adarnall\\miniconda3\\Lib\\site-packages\\google\\cloud\\bigquery\\table.py:1957: UserWarning: BigQuery Storage module not found, fetch data with the REST endpoint instead.\n",
      "  warnings.warn(\n"
     ]
    },
    {
     "data": {
      "text/html": [
       "<div>\n",
       "<style scoped>\n",
       "    .dataframe tbody tr th:only-of-type {\n",
       "        vertical-align: middle;\n",
       "    }\n",
       "\n",
       "    .dataframe tbody tr th {\n",
       "        vertical-align: top;\n",
       "    }\n",
       "\n",
       "    .dataframe thead th {\n",
       "        text-align: right;\n",
       "    }\n",
       "</style>\n",
       "<table border=\"1\" class=\"dataframe\">\n",
       "  <thead>\n",
       "    <tr style=\"text-align: right;\">\n",
       "      <th></th>\n",
       "      <th>Personality</th>\n",
       "      <th>Post_Freq_Time_Spent_Alone_Corr</th>\n",
       "    </tr>\n",
       "  </thead>\n",
       "  <tbody>\n",
       "    <tr>\n",
       "      <th>0</th>\n",
       "      <td>Introvert</td>\n",
       "      <td>-0.456801</td>\n",
       "    </tr>\n",
       "    <tr>\n",
       "      <th>1</th>\n",
       "      <td>Extrovert</td>\n",
       "      <td>-0.456529</td>\n",
       "    </tr>\n",
       "  </tbody>\n",
       "</table>\n",
       "</div>"
      ],
      "text/plain": [
       "  Personality  Post_Freq_Time_Spent_Alone_Corr\n",
       "0   Introvert                        -0.456801\n",
       "1   Extrovert                        -0.456529"
      ]
     },
     "execution_count": 11,
     "metadata": {},
     "output_type": "execute_result"
    }
   ],
   "source": [
    "# Check correlation between Post Frequency and Social Event Attendance\n",
    "query = f\"\"\"\n",
    "SELECT Personality, CORR(Post_frequency, Time_spent_Alone) AS Post_Freq_Time_Spent_Alone_Corr\n",
    "FROM `ccbd-exam-2025-darnall.intro_extro_behavior.intro_extro_data`\n",
    "GROUP BY Personality;\n",
    "\"\"\"\n",
    "\n",
    "query_8 = bq_client.query(query).to_dataframe()\n",
    "query_8.head()"
   ]
  },
  {
   "cell_type": "code",
   "execution_count": 12,
   "id": "2e78c193-e5e0-44bf-9b56-32e6b5562b0d",
   "metadata": {},
   "outputs": [
    {
     "name": "stderr",
     "output_type": "stream",
     "text": [
      "C:\\Users\\adarnall\\miniconda3\\Lib\\site-packages\\google\\cloud\\bigquery\\table.py:1957: UserWarning: BigQuery Storage module not found, fetch data with the REST endpoint instead.\n",
      "  warnings.warn(\n"
     ]
    },
    {
     "data": {
      "text/html": [
       "<div>\n",
       "<style scoped>\n",
       "    .dataframe tbody tr th:only-of-type {\n",
       "        vertical-align: middle;\n",
       "    }\n",
       "\n",
       "    .dataframe tbody tr th {\n",
       "        vertical-align: top;\n",
       "    }\n",
       "\n",
       "    .dataframe thead th {\n",
       "        text-align: right;\n",
       "    }\n",
       "</style>\n",
       "<table border=\"1\" class=\"dataframe\">\n",
       "  <thead>\n",
       "    <tr style=\"text-align: right;\">\n",
       "      <th></th>\n",
       "      <th>Personality</th>\n",
       "      <th>Average_Social_Event_Attendance</th>\n",
       "    </tr>\n",
       "  </thead>\n",
       "  <tbody>\n",
       "    <tr>\n",
       "      <th>0</th>\n",
       "      <td>Introvert</td>\n",
       "      <td>1.778909</td>\n",
       "    </tr>\n",
       "    <tr>\n",
       "      <th>1</th>\n",
       "      <td>Extrovert</td>\n",
       "      <td>6.016405</td>\n",
       "    </tr>\n",
       "  </tbody>\n",
       "</table>\n",
       "</div>"
      ],
      "text/plain": [
       "  Personality  Average_Social_Event_Attendance\n",
       "0   Introvert                         1.778909\n",
       "1   Extrovert                         6.016405"
      ]
     },
     "execution_count": 12,
     "metadata": {},
     "output_type": "execute_result"
    }
   ],
   "source": [
    "# Assess average social event attendance per personality type\n",
    "query = f\"\"\"\n",
    "SELECT Personality, AVG(Social_event_attendance) AS Average_Social_Event_Attendance\n",
    "FROM `ccbd-exam-2025-darnall.intro_extro_behavior.intro_extro_data`\n",
    "GROUP BY Personality;\n",
    "\"\"\"\n",
    "\n",
    "query_9 = bq_client.query(query).to_dataframe()\n",
    "query_9.head()"
   ]
  },
  {
   "cell_type": "code",
   "execution_count": 13,
   "id": "4ca31d7d-3784-4fb6-8aa1-15a90356fc36",
   "metadata": {},
   "outputs": [
    {
     "name": "stderr",
     "output_type": "stream",
     "text": [
      "C:\\Users\\adarnall\\miniconda3\\Lib\\site-packages\\google\\cloud\\bigquery\\table.py:1957: UserWarning: BigQuery Storage module not found, fetch data with the REST endpoint instead.\n",
      "  warnings.warn(\n"
     ]
    },
    {
     "data": {
      "text/html": [
       "<div>\n",
       "<style scoped>\n",
       "    .dataframe tbody tr th:only-of-type {\n",
       "        vertical-align: middle;\n",
       "    }\n",
       "\n",
       "    .dataframe tbody tr th {\n",
       "        vertical-align: top;\n",
       "    }\n",
       "\n",
       "    .dataframe thead th {\n",
       "        text-align: right;\n",
       "    }\n",
       "</style>\n",
       "<table border=\"1\" class=\"dataframe\">\n",
       "  <thead>\n",
       "    <tr style=\"text-align: right;\">\n",
       "      <th></th>\n",
       "      <th>Personality</th>\n",
       "      <th>Average_Social_Post_Frequency</th>\n",
       "    </tr>\n",
       "  </thead>\n",
       "  <tbody>\n",
       "    <tr>\n",
       "      <th>0</th>\n",
       "      <td>Introvert</td>\n",
       "      <td>1.368918</td>\n",
       "    </tr>\n",
       "    <tr>\n",
       "      <th>1</th>\n",
       "      <td>Extrovert</td>\n",
       "      <td>5.638546</td>\n",
       "    </tr>\n",
       "  </tbody>\n",
       "</table>\n",
       "</div>"
      ],
      "text/plain": [
       "  Personality  Average_Social_Post_Frequency\n",
       "0   Introvert                       1.368918\n",
       "1   Extrovert                       5.638546"
      ]
     },
     "execution_count": 13,
     "metadata": {},
     "output_type": "execute_result"
    }
   ],
   "source": [
    "# Assess average post frequency per personality type\n",
    "query = f\"\"\"\n",
    "SELECT Personality, AVG(Post_frequency) AS Average_Social_Post_Frequency\n",
    "FROM `ccbd-exam-2025-darnall.intro_extro_behavior.intro_extro_data`\n",
    "GROUP BY Personality;\n",
    "\"\"\"\n",
    "\n",
    "query_10 = bq_client.query(query).to_dataframe()\n",
    "query_10.head()"
   ]
  },
  {
   "cell_type": "markdown",
   "id": "f089f9b7-3d6d-4cdb-9f80-a5631ed152d6",
   "metadata": {},
   "source": [
    "---"
   ]
  },
  {
   "cell_type": "code",
   "execution_count": 19,
   "id": "14b6671f-e4cd-486f-a673-5db246cab176",
   "metadata": {},
   "outputs": [],
   "source": [
    "# Storing the SQL Query Results to the Google Cloud Storage Bucket, under the /jupyterlab-results\n",
    "import gcsfs\n",
    "\n",
    "# Define the path where you want to store the file in GCS\n",
    "bucket_name = \"ccbd-exam-2025-darnall-gc-bucket\"\n",
    "directory = \"data-analytics-results/jupyterlab-results\"\n",
    "file_name = \"dataset_balance_jp.csv\"\n",
    "gcs_path = f\"gs://{bucket_name}/{directory}/{file_name}\"\n",
    "\n",
    "# Save the DataFrame as a CSV to the GCS bucket\n",
    "fs = gcsfs.GCSFileSystem()\n",
    "\n",
    "# Save the DataFrame as a CSV file to GCS\n",
    "with fs.open(gcs_path, 'w') as file:\n",
    "    query_1.to_csv(file, index=False)"
   ]
  },
  {
   "cell_type": "code",
   "execution_count": 20,
   "id": "1e1bd4ba-bf90-44d4-9400-9fc0dc1d899d",
   "metadata": {},
   "outputs": [],
   "source": [
    "# Store the 2nd SQL Query Result\n",
    "gcs_path = f\"gs://{bucket_name}/{directory}/{file_name}\"\n",
    "file_name = \"absolute_friendcount_results_jp.csv\"\n",
    "\n",
    "\n",
    "with fs.open(gcs_path, 'w') as file:\n",
    "    query_2.to_csv(file, index=False)"
   ]
  },
  {
   "cell_type": "code",
   "execution_count": 21,
   "id": "b266dda8-a3ab-41dc-b1c1-03893dafa5cb",
   "metadata": {},
   "outputs": [],
   "source": [
    "# Store the 3rd SQL Query Result\n",
    "gcs_path = f\"gs://{bucket_name}/{directory}/{file_name}\"\n",
    "file_name = \"average_friendgroup_size_jp.csv\"\n",
    "\n",
    "with fs.open(gcs_path, 'w') as file:\n",
    "    query_3.to_csv(file, index=False)"
   ]
  },
  {
   "cell_type": "code",
   "execution_count": 22,
   "id": "efcbb399-82bc-495a-9f2e-32657ff929d8",
   "metadata": {},
   "outputs": [],
   "source": [
    "# Store the 4th SQL Query Result\n",
    "gcs_path = f\"gs://{bucket_name}/{directory}/{file_name}\"\n",
    "file_name = \"extrovert_friendgroup_trends_jp.csv\"\n",
    "\n",
    "with fs.open(gcs_path, 'w') as file:\n",
    "    query_4.to_csv(file, index=False)"
   ]
  },
  {
   "cell_type": "code",
   "execution_count": 23,
   "id": "60a549e3-c076-409b-b50f-10bffee51a78",
   "metadata": {},
   "outputs": [],
   "source": [
    "# Store the 5th SQL Query Result\n",
    "gcs_path = f\"gs://{bucket_name}/{directory}/{file_name}\"\n",
    "file_name = \"introvert_friendgroup_trends_jp.csv\"\n",
    "\n",
    "with fs.open(gcs_path, 'w') as file:\n",
    "    query_5.to_csv(file, index=False)"
   ]
  },
  {
   "cell_type": "code",
   "execution_count": 24,
   "id": "d22608b1-6fa7-4766-80ff-b147f8e507f9",
   "metadata": {},
   "outputs": [],
   "source": [
    "# Store the 6th SQL Query Result\n",
    "gcs_path = f\"gs://{bucket_name}/{directory}/{file_name}\"\n",
    "file_name = \"corr_postfreq_friendgroup_jp.csv\"\n",
    "\n",
    "with fs.open(gcs_path, 'w') as file:\n",
    "    query_6.to_csv(file, index=False)"
   ]
  },
  {
   "cell_type": "code",
   "execution_count": 25,
   "id": "394aa9ee-5fd0-4b21-84a9-fe9a9bb81f3a",
   "metadata": {},
   "outputs": [],
   "source": [
    "# Store the 7th SQL Query Result\n",
    "gcs_path = f\"gs://{bucket_name}/{directory}/{file_name}\"\n",
    "file_name = \"corr_postfreq_alonetime_jp.csv\"\n",
    "\n",
    "with fs.open(gcs_path, 'w') as file:\n",
    "    query_7.to_csv(file, index=False)"
   ]
  },
  {
   "cell_type": "code",
   "execution_count": 26,
   "id": "f5efde76-6a28-4d0d-91d5-dedb3d7c1cbc",
   "metadata": {},
   "outputs": [],
   "source": [
    "# Store the 8th SQL Query Result\n",
    "gcs_path = f\"gs://{bucket_name}/{directory}/{file_name}\"\n",
    "file_name = \"corr_postfreq_socialatt_jp.csv\"\n",
    "\n",
    "with fs.open(gcs_path, 'w') as file:\n",
    "    query_8.to_csv(file, index=False)"
   ]
  },
  {
   "cell_type": "code",
   "execution_count": 27,
   "id": "eaef9ba7-e91f-4cf8-98e7-f8f1e4e46c6d",
   "metadata": {},
   "outputs": [],
   "source": [
    "# Store the 9th SQL Query Result\n",
    "gcs_path = f\"gs://{bucket_name}/{directory}/{file_name}\"\n",
    "file_name = \"social_event_attendance_jp.csv\"\n",
    "\n",
    "with fs.open(gcs_path, 'w') as file:\n",
    "    query_9.to_csv(file, index=False)"
   ]
  },
  {
   "cell_type": "code",
   "execution_count": 28,
   "id": "4129b9bb-d629-4424-9181-c9685e5bb5e3",
   "metadata": {},
   "outputs": [],
   "source": [
    "# Store the 10th SQL Query Result\n",
    "gcs_path = f\"gs://{bucket_name}/{directory}/{file_name}\"\n",
    "file_name = \"post_frequency_jp.csv\"\n",
    "\n",
    "with fs.open(gcs_path, 'w') as file:\n",
    "    query_10.to_csv(file, index=False)"
   ]
  },
  {
   "cell_type": "markdown",
   "id": "e0810104-41fd-4ddc-84f6-569e10b785ca",
   "metadata": {},
   "source": [
    "---"
   ]
  }
 ],
 "metadata": {
  "kernelspec": {
   "display_name": "Python 3 (ipykernel)",
   "language": "python",
   "name": "python3"
  },
  "language_info": {
   "codemirror_mode": {
    "name": "ipython",
    "version": 3
   },
   "file_extension": ".py",
   "mimetype": "text/x-python",
   "name": "python",
   "nbconvert_exporter": "python",
   "pygments_lexer": "ipython3",
   "version": "3.13.2"
  }
 },
 "nbformat": 4,
 "nbformat_minor": 5
}
